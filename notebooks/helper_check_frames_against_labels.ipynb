{
 "cells": [
  {
   "cell_type": "markdown",
   "metadata": {},
   "source": [
    "# Instructions"
   ]
  },
  {
   "cell_type": "markdown",
   "metadata": {
    "ExecuteTime": {
     "end_time": "2019-01-13T13:07:22.858091Z",
     "start_time": "2019-01-13T13:07:22.845421Z"
    }
   },
   "source": [
    "\n",
    "Check frames in `data/*vid_name*/` folders match `data/labels.csv` file.\n",
    "\n",
    "You need 1:1 mapping between frame files and rows of `labels.csv` or the rest of the code in this package won't run. \n",
    "\n",
    "A mismatch might be caused by a difference in FPS in labels vs extracted frames, an issue in frame extraction or an issue in your labels file.\n",
    "\n",
    "This notebook will do the check and help debug a mismatch between frame files and `labels.csv`\n",
    "\n",
    "Note: Your labels might be out by 1 or 2 frames due to the granularity of your labels vs FPS - the easiest solution is to delete those extra frames manually"
   ]
  },
  {
   "cell_type": "markdown",
   "metadata": {},
   "source": [
    "# Setup"
   ]
  },
  {
   "cell_type": "code",
   "execution_count": 1,
   "metadata": {
    "ExecuteTime": {
     "end_time": "2020-04-07T08:24:34.855490Z",
     "start_time": "2020-04-07T08:24:33.934721Z"
    }
   },
   "outputs": [],
   "source": [
    "import numpy as np\n",
    "import cv2\n",
    "from time import time as timer\n",
    "import sys\n",
    "import os\n",
    "import pandas as pd\n",
    "import matplotlib.pyplot as plt\n",
    "from PIL import Image\n",
    "%matplotlib inline"
   ]
  },
  {
   "cell_type": "code",
   "execution_count": 2,
   "metadata": {
    "ExecuteTime": {
     "end_time": "2020-04-07T08:24:34.860150Z",
     "start_time": "2020-04-07T08:24:34.857440Z"
    }
   },
   "outputs": [],
   "source": [
    "# setup paths\n",
    "pwd = os.getcwd().replace(\"notebooks\",\"\")\n",
    "path_videos = pwd + 'videos/'\n",
    "path_data = pwd + 'data_cnn_ts_3d/'"
   ]
  },
  {
   "cell_type": "code",
   "execution_count": 3,
   "metadata": {
    "ExecuteTime": {
     "end_time": "2020-04-07T08:24:34.866924Z",
     "start_time": "2020-04-07T08:24:34.862059Z"
    }
   },
   "outputs": [],
   "source": [
    "# read frames paths\n",
    "paths_videos = os.listdir(path_data)\n",
    "paths_videos = [path_data + v + '/' for v in paths_videos if v != '.DS_Store' and v != 'labels.csv']\n",
    "paths_videos.sort()"
   ]
  },
  {
   "cell_type": "markdown",
   "metadata": {},
   "source": [
    "# Check we have a 1:1 mapping between labels and frames"
   ]
  },
  {
   "cell_type": "code",
   "execution_count": 4,
   "metadata": {
    "ExecuteTime": {
     "end_time": "2020-04-07T08:24:35.786138Z",
     "start_time": "2020-04-07T08:24:35.782655Z"
    }
   },
   "outputs": [],
   "source": [
    "if not os.path.exists(pwd + 'data/labels.csv'):\n",
    "    print(\"ERROR: labels.csv missing - please copy labels.csv to /data/labels.csv\")\n",
    "    print()\n",
    "    print(\"Sample label file below:\")    \n",
    "    print(\"\"\"video\\t\\t\\tframe \\t\\t\\t\\t label\n",
    "    20160801_no9_1\\t\\t20160801_no9_1_00001.jpeg\tsearch\n",
    "    20160801_no9_1\\t\\t20160801_no9_1_00002.jpeg\tsearch\n",
    "    ...\"\"\")\n",
    "    print()\n",
    "    print(\"Note you also need a 'split' column that assigns videos to train/valid/test splits - can use /notebooks/helper_add_train_valid_test_splits_to_labels.ipynb to add splits\")"
   ]
  },
  {
   "cell_type": "code",
   "execution_count": 5,
   "metadata": {
    "ExecuteTime": {
     "end_time": "2020-04-07T08:24:44.134153Z",
     "start_time": "2020-04-07T08:24:44.091723Z"
    }
   },
   "outputs": [],
   "source": [
    "# load labels\n",
    "labels = pd.read_csv(path_data + 'labels.csv')"
   ]
  },
  {
   "cell_type": "code",
   "execution_count": 6,
   "metadata": {
    "ExecuteTime": {
     "end_time": "2020-04-07T08:24:45.035723Z",
     "start_time": "2020-04-07T08:24:45.010767Z"
    }
   },
   "outputs": [
    {
     "name": "stderr",
     "output_type": "stream",
     "text": [
      "/tmp/ipykernel_422/3011311445.py:1: FutureWarning: The default value of regex will change from True to False in a future version.\n",
      "  labels['frame'] = labels['frame'].str.replace('.jpeg','.jpg')\n"
     ]
    }
   ],
   "source": [
    "labels['frame'] = labels['frame'].str.replace('.jpeg','.jpg')"
   ]
  },
  {
   "cell_type": "code",
   "execution_count": 7,
   "metadata": {
    "ExecuteTime": {
     "end_time": "2020-04-07T08:24:46.305023Z",
     "start_time": "2020-04-07T08:24:46.287610Z"
    }
   },
   "outputs": [
    {
     "data": {
      "text/html": [
       "<div>\n",
       "<style scoped>\n",
       "    .dataframe tbody tr th:only-of-type {\n",
       "        vertical-align: middle;\n",
       "    }\n",
       "\n",
       "    .dataframe tbody tr th {\n",
       "        vertical-align: top;\n",
       "    }\n",
       "\n",
       "    .dataframe thead th {\n",
       "        text-align: right;\n",
       "    }\n",
       "</style>\n",
       "<table border=\"1\" class=\"dataframe\">\n",
       "  <thead>\n",
       "    <tr style=\"text-align: right;\">\n",
       "      <th></th>\n",
       "      <th>video</th>\n",
       "      <th>frame</th>\n",
       "      <th>label</th>\n",
       "      <th>split</th>\n",
       "    </tr>\n",
       "  </thead>\n",
       "  <tbody>\n",
       "    <tr>\n",
       "      <th>0</th>\n",
       "      <td>trajs_2017-03-08_Ut_3064_door_3</td>\n",
       "      <td>trajs_2017-03-08_Ut_3064_door_3-0000.npy</td>\n",
       "      <td>pre-deboarding</td>\n",
       "      <td>train</td>\n",
       "    </tr>\n",
       "    <tr>\n",
       "      <th>1</th>\n",
       "      <td>trajs_2017-03-08_Ut_3064_door_3</td>\n",
       "      <td>trajs_2017-03-08_Ut_3064_door_3-0001.npy</td>\n",
       "      <td>pre-deboarding</td>\n",
       "      <td>train</td>\n",
       "    </tr>\n",
       "    <tr>\n",
       "      <th>2</th>\n",
       "      <td>trajs_2017-03-08_Ut_3064_door_3</td>\n",
       "      <td>trajs_2017-03-08_Ut_3064_door_3-0002.npy</td>\n",
       "      <td>pre-deboarding</td>\n",
       "      <td>train</td>\n",
       "    </tr>\n",
       "    <tr>\n",
       "      <th>3</th>\n",
       "      <td>trajs_2017-03-08_Ut_3064_door_3</td>\n",
       "      <td>trajs_2017-03-08_Ut_3064_door_3-0003.npy</td>\n",
       "      <td>pre-deboarding</td>\n",
       "      <td>train</td>\n",
       "    </tr>\n",
       "    <tr>\n",
       "      <th>4</th>\n",
       "      <td>trajs_2017-03-08_Ut_3064_door_3</td>\n",
       "      <td>trajs_2017-03-08_Ut_3064_door_3-0004.npy</td>\n",
       "      <td>pre-deboarding</td>\n",
       "      <td>train</td>\n",
       "    </tr>\n",
       "  </tbody>\n",
       "</table>\n",
       "</div>"
      ],
      "text/plain": [
       "                             video                                     frame  \\\n",
       "0  trajs_2017-03-08_Ut_3064_door_3  trajs_2017-03-08_Ut_3064_door_3-0000.npy   \n",
       "1  trajs_2017-03-08_Ut_3064_door_3  trajs_2017-03-08_Ut_3064_door_3-0001.npy   \n",
       "2  trajs_2017-03-08_Ut_3064_door_3  trajs_2017-03-08_Ut_3064_door_3-0002.npy   \n",
       "3  trajs_2017-03-08_Ut_3064_door_3  trajs_2017-03-08_Ut_3064_door_3-0003.npy   \n",
       "4  trajs_2017-03-08_Ut_3064_door_3  trajs_2017-03-08_Ut_3064_door_3-0004.npy   \n",
       "\n",
       "            label  split  \n",
       "0  pre-deboarding  train  \n",
       "1  pre-deboarding  train  \n",
       "2  pre-deboarding  train  \n",
       "3  pre-deboarding  train  \n",
       "4  pre-deboarding  train  "
      ]
     },
     "execution_count": 7,
     "metadata": {},
     "output_type": "execute_result"
    }
   ],
   "source": [
    "labels.head()"
   ]
  },
  {
   "cell_type": "code",
   "execution_count": 8,
   "metadata": {
    "ExecuteTime": {
     "end_time": "2020-04-07T08:25:02.879322Z",
     "start_time": "2020-04-07T08:25:02.772023Z"
    }
   },
   "outputs": [
    {
     "name": "stdout",
     "output_type": "stream",
     "text": [
      "ERRORS: 0 VIDS WITH #LABELS != #FRAMES\n",
      "\n",
      "\n",
      "OK: 10 VIDS WITH #LABELS == #FRAMES\n",
      "trajs_2017-03-08_Ut_3064_door_3 .::. Same number of labels and frames for vid\n",
      "trajs_2017-06-03_Ut_3030_door_4 .::. Same number of labels and frames for vid\n",
      "trajs_2017-06-14_Ut_3066_door_3 .::. Same number of labels and frames for vid\n",
      "trajs_2017-09-28_Ut_3126_door_3 .::. Same number of labels and frames for vid\n",
      "trajs_2017-12-16_Ut_700852_door_3 .::. Same number of labels and frames for vid\n",
      "trajs_2018-02-06_Ut_3048_door_4 .::. Same number of labels and frames for vid\n",
      "trajs_2018-02-09_Ut_830_door_3 .::. Same number of labels and frames for vid\n",
      "trajs_2018-05-08_Ut_3038_door_4 .::. Same number of labels and frames for vid\n",
      "trajs_2018-05-16_Ut_3040_door_3 .::. Same number of labels and frames for vid\n",
      "trajs_2018-05-21_Ut_3072_door_4 .::. Same number of labels and frames for vid\n"
     ]
    }
   ],
   "source": [
    "vids_error = []\n",
    "vids_ok = []\n",
    "\n",
    "# for path_video in paths_videos:    \n",
    "for path_video in paths_videos:\n",
    "\n",
    "    # get vid name from path\n",
    "    vid_name = path_video[:-1].split(\"/\")[-1]\n",
    "\n",
    "    # convert list of frame files to dataframe\n",
    "    paths_frames = os.listdir(path_video)\n",
    "    paths_frames = [f for f in paths_frames if f != '.DS_Store']\n",
    "    paths_frames = pd.DataFrame(paths_frames, columns = ['frame_file'])\n",
    "\n",
    "    # subset labels to just this vid\n",
    "    labels_vid = labels[labels['video'] == vid_name]\n",
    "\n",
    "    # collect errors so can print grouped\n",
    "    if not len(labels_vid) == len(paths_frames):\n",
    "        vids_error.append(\"{} .::. Different number of labels ({}) than frames ({}) ... DIFF: {} \".format(vid_name, len(labels_vid),len(paths_frames), len(labels_vid) - len(paths_frames)))\n",
    "    else:\n",
    "        vids_ok.append(\"{} .::. Same number of labels and frames for vid\".format(vid_name))\n",
    "\n",
    "# print errors\n",
    "print(\"ERRORS: {} VIDS WITH #LABELS != #FRAMES\".format(len(vids_error)))\n",
    "for msg in vids_error:\n",
    "    print(msg)\n",
    "\n",
    "print(\"\\n\")\n",
    "print(\"OK: {} VIDS WITH #LABELS == #FRAMES\".format(len(vids_ok)))\n",
    "for msg in vids_ok:\n",
    "    print(msg)"
   ]
  },
  {
   "cell_type": "code",
   "execution_count": 9,
   "metadata": {
    "ExecuteTime": {
     "end_time": "2020-04-07T08:25:05.404004Z",
     "start_time": "2020-04-07T08:25:05.399703Z"
    }
   },
   "outputs": [],
   "source": [
    "assert labels['video'].nunique() == len(paths_videos), \"Different number of videos in labels file than /data/\""
   ]
  },
  {
   "cell_type": "markdown",
   "metadata": {},
   "source": [
    "# Find missing frames for a video"
   ]
  },
  {
   "cell_type": "markdown",
   "metadata": {},
   "source": [
    "> this function will output any frames in the dataset that do not have labels"
   ]
  },
  {
   "cell_type": "code",
   "execution_count": 10,
   "metadata": {
    "ExecuteTime": {
     "end_time": "2020-04-07T08:25:18.268669Z",
     "start_time": "2020-04-07T08:25:18.263980Z"
    }
   },
   "outputs": [],
   "source": [
    "# for path_video in paths_videos:    \n",
    "for vid_error in vids_error:\n",
    "\n",
    "    # get vid name from path\n",
    "    vid_name = vid_error.split(\" .::.\")[0]\n",
    "    print(vid_name)\n",
    "\n",
    "    # convert list of frame files to dataframe\n",
    "    paths_frames = os.listdir(path_data+vid_name)\n",
    "    paths_frames = [f for f in paths_frames if f != '.DS_Store']\n",
    "    paths_frames = pd.DataFrame(paths_frames, columns = ['frame_file'])\n",
    "    paths_frames.sort_values('frame_file', inplace=True)\n",
    "\n",
    "    # figure out which frames we're missing\n",
    "    labels_vid = labels[labels['video'] == vid_name]\n",
    "\n",
    "    labels_vid = pd.merge(labels_vid,paths_frames,left_on='frame', right_on='frame_file',how='left')\n",
    "\n",
    "    print(len(labels_vid[labels_vid['frame_file'].isnull()]))\n",
    "    \n",
    "#     print(labels_vid[labels_vid['frame_file'].isnull()])"
   ]
  }
 ],
 "metadata": {
  "kernelspec": {
   "display_name": "tf_env",
   "language": "python",
   "name": "python3"
  },
  "language_info": {
   "codemirror_mode": {
    "name": "ipython",
    "version": 3
   },
   "file_extension": ".py",
   "mimetype": "text/x-python",
   "name": "python",
   "nbconvert_exporter": "python",
   "pygments_lexer": "ipython3",
   "version": "3.10.9"
  },
  "vscode": {
   "interpreter": {
    "hash": "8f9fd7e5cd0ee174f389b9d7efcf5e4e8d178ce255061fb4046125c712618101"
   }
  }
 },
 "nbformat": 4,
 "nbformat_minor": 2
}
