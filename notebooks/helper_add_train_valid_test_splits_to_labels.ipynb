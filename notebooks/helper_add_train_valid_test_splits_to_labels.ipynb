{
 "cells": [
  {
   "cell_type": "markdown",
   "metadata": {},
   "source": [
    "# Instructions"
   ]
  },
  {
   "cell_type": "markdown",
   "metadata": {},
   "source": [
    "Your `data/labels.csv` file needs to be in the format `video_name, video_frame_filename_with_timestamp, label, split` to use this package to train models. \n",
    "\n",
    "It is likely that your labels start in one of the following 2 formats:\n",
    "1. `video_name, video_frame_filename_with_timestamp, label` format\n",
    "2. `video_name, timestamp_start, timestamp_end, label`\n",
    "\n",
    "If your data is in format 2, then run the helper notebook in `notebooks/helper_convert_timestamps_file_to_labels.ipynb` to convert it to format 1.\n",
    "\n",
    "Once your labels file is in format 1, use this notebook to add the `split` column that allocates videos to train/test/validation splits by specifying a list of video names for each split. \n",
    "\n",
    "Note, this package assumes train/valid/test videos are split at the video level. If you have one very long video, you could cut it up into several smaller videos first..."
   ]
  },
  {
   "cell_type": "markdown",
   "metadata": {},
   "source": [
    "# Setup"
   ]
  },
  {
   "cell_type": "code",
   "execution_count": 1,
   "metadata": {
    "ExecuteTime": {
     "end_time": "2019-01-14T14:59:28.890117Z",
     "start_time": "2019-01-14T14:59:28.587543Z"
    }
   },
   "outputs": [],
   "source": [
    "import os\n",
    "import pandas as pd\n",
    "import numpy as np\n",
    "import json\n",
    "\n",
    "import cv2\n",
    "from time import time as timer\n",
    "import sys\n",
    "sys.path.append('..')"
   ]
  },
  {
   "cell_type": "code",
   "execution_count": 19,
   "metadata": {
    "ExecuteTime": {
     "end_time": "2019-01-14T14:59:28.895886Z",
     "start_time": "2019-01-14T14:59:28.892724Z"
    }
   },
   "outputs": [],
   "source": [
    "# setup paths\n",
    "pwd = os.getcwd().replace(\"notebooks\",\"\")\n",
    "path_cache = pwd + 'cache/'\n",
    "path_data = '/media/tiesbarendse/DATA/be_ts/' #pwd + 'data_cnn_ts_3d/'"
   ]
  },
  {
   "cell_type": "code",
   "execution_count": 8,
   "metadata": {
    "ExecuteTime": {
     "end_time": "2019-01-14T14:59:28.992093Z",
     "start_time": "2019-01-14T14:59:28.986269Z"
    }
   },
   "outputs": [],
   "source": [
    "# read vid paths\n",
    "path_videos = []\n",
    "for filename in os.listdir(path_data):\n",
    "    if os.path.isdir(os.path.join(path_data, filename)):\n",
    "        path_videos.append(filename)\n",
    "\n",
    "path_videos = [path_data + v + '/' for v in path_videos if v != '.DS_Store']"
   ]
  },
  {
   "cell_type": "code",
   "execution_count": 9,
   "metadata": {
    "ExecuteTime": {
     "end_time": "2019-01-14T14:59:29.516003Z",
     "start_time": "2019-01-14T14:59:29.510506Z"
    }
   },
   "outputs": [],
   "source": [
    "def add_splits_to_labels_file(vids_valid, vids_test):\n",
    "    \"\"\"\n",
    "    Helper function to add splits to your labels file \n",
    "\n",
    "    If your labels file has the columns \"video\",\"filename\",\"label\", \n",
    "    you can use this function to add train/valid/test splits by specifying\n",
    "    as lists of video names which videos should be valid and which should be test\n",
    "\n",
    "    Will overwrite labels file on disk\n",
    "\n",
    "    Sample usage\n",
    "    \"\"\"\n",
    "    # e.g. \n",
    "    # * vids_valid = ['vid_a', 'vid_b', 'vid_c']\n",
    "    # * vids_test = ['vid_y', 'vid_z']\n",
    "    # all the rest will be train\n",
    "\n",
    "    labels = pd.read_csv(path_data + 'labels.csv', usecols=['video','frame','label'])\n",
    "\n",
    "    def allocate_set(vid):\n",
    "        if vid in vids_valid:\n",
    "            return \"valid\"\n",
    "        elif vid in vids_test:\n",
    "            return \"test\"\n",
    "        else: \n",
    "            return \"train\"\n",
    "\n",
    "    # apply split\n",
    "    labels['split'] = labels['video'].apply(lambda x: allocate_set(x))\n",
    "\n",
    "    # sort \n",
    "    labels.sort_values([\"video\",\"frame\"], inplace=True)\n",
    "\n",
    "    # output as csv\n",
    "    labels.to_csv(path_data + 'labels.csv', index=False)\n",
    "    \n",
    "    print(f\"Done saving new labels file with splits to {path_data}/labels.csv\")"
   ]
  },
  {
   "cell_type": "markdown",
   "metadata": {},
   "source": [
    "# Use function to add splits to labels file"
   ]
  },
  {
   "cell_type": "markdown",
   "metadata": {},
   "source": [
    "> Define the video names for validation and test set"
   ]
  },
  {
   "cell_type": "code",
   "execution_count": 10,
   "metadata": {},
   "outputs": [
    {
     "data": {
      "text/plain": [
       "['trajs_2017-03-01_Ut_3040_door_4',\n",
       " 'trajs_2017-03-03_Ut_3128_door_4',\n",
       " 'trajs_2017-03-03_Ut_3132_door_4',\n",
       " 'trajs_2017-03-05_Ut_3054_door_4',\n",
       " 'trajs_2017-03-06_Ut_3044_door_4',\n",
       " 'trajs_2017-03-06_Ut_3124_door_3',\n",
       " 'trajs_2017-03-06_Ut_3166_door_4',\n",
       " 'trajs_2017-03-07_Ut_3142_door_3',\n",
       " 'trajs_2017-03-07_Ut_814_door_3',\n",
       " 'trajs_2017-03-09_Ut_3052_door_4',\n",
       " 'trajs_2017-03-09_Ut_3062_door_3',\n",
       " 'trajs_2017-03-12_Ut_3028_door_3',\n",
       " 'trajs_2017-03-14_Ut_3156_door_3',\n",
       " 'trajs_2017-03-16_Ut_3078_door_4',\n",
       " 'trajs_2017-03-16_Ut_3130_door_4',\n",
       " 'trajs_2017-03-18_Ut_3150_door_3',\n",
       " 'trajs_2017-03-20_Ut_3052_door_3',\n",
       " 'trajs_2017-03-21_Ut_3150_door_3',\n",
       " 'trajs_2017-03-24_Ut_3156_door_4',\n",
       " 'trajs_2017-03-29_Ut_3024_door_3',\n",
       " 'trajs_2017-04-01_Ut_3062_door_3',\n",
       " 'trajs_2017-04-02_Ut_3050_door_3',\n",
       " 'trajs_2017-04-04_Ut_3048_door_3',\n",
       " 'trajs_2017-04-07_Ut_3030_door_4',\n",
       " 'trajs_2017-04-08_Ut_3024_door_3',\n",
       " 'trajs_2017-04-08_Ut_3168_door_3',\n",
       " 'trajs_2017-04-09_Ut_3142_door_4',\n",
       " 'trajs_2017-04-29_Ut_822_door_4',\n",
       " 'trajs_2017-06-01_Ut_3070_door_4',\n",
       " 'trajs_2017-09-19_Ut_3028_door_4',\n",
       " 'trajs_2017-11-01_Ut_3036_door_4',\n",
       " 'trajs_2017-12-28_Ut_3954_door_4',\n",
       " 'trajs_2018-02-03_Ut_3050_door_4',\n",
       " 'trajs_2018-03-07_Ut_3146_door_3',\n",
       " 'trajs_2018-04-13_Ut_3046_door_3',\n",
       " 'trajs_2018-05-14_Ut_3158_door_4',\n",
       " 'trajs_2017-11-04_Ut_3162_door_3',\n",
       " 'trajs_2017-11-06_Ut_3128_door_3',\n",
       " 'trajs_2017-11-07_Ut_3114_door_4',\n",
       " 'trajs_2017-11-07_Ut_3136_door_3',\n",
       " 'trajs_2017-11-09_Ut_3074_door_4',\n",
       " 'trajs_2017-11-13_Ut_3022_door_3',\n",
       " 'trajs_2017-11-13_Ut_3062_door_3',\n",
       " 'trajs_2017-11-15_Ut_3158_door_4',\n",
       " 'trajs_2017-11-16_Ut_3126_door_3',\n",
       " 'trajs_2017-11-18_Ut_3058_door_4',\n",
       " 'trajs_2017-11-19_Ut_3028_door_3',\n",
       " 'trajs_2017-11-21_Ut_3046_door_4',\n",
       " 'trajs_2017-11-21_Ut_3062_door_3',\n",
       " 'trajs_2017-11-30_Ut_3070_door_3',\n",
       " 'trajs_2017-11-30_Ut_3146_door_3',\n",
       " 'trajs_2017-12-02_Ut_3138_door_4',\n",
       " 'trajs_2017-12-03_Ut_3146_door_4',\n",
       " 'trajs_2017-12-05_Ut_3046_door_4',\n",
       " 'trajs_2017-12-07_Ut_3126_door_3',\n",
       " 'trajs_2017-12-12_Ut_3048_door_4',\n",
       " 'trajs_2017-12-13_Ut_3156_door_3',\n",
       " 'trajs_2017-12-20_Ut_3072_door_3',\n",
       " 'trajs_2017-12-23_Ut_3162_door_4',\n",
       " 'trajs_2017-12-26_Ut_3060_door_3',\n",
       " 'trajs_2017-12-26_Ut_3154_door_4',\n",
       " 'trajs_2017-12-27_Ut_3168_door_3',\n",
       " 'trajs_2017-06-06_Ut_3168_door_3',\n",
       " 'trajs_2017-06-07_Ut_303032_door_3',\n",
       " 'trajs_2017-06-08_Ut_854_door_4',\n",
       " 'trajs_2017-06-11_Ut_3060_door_4',\n",
       " 'trajs_2017-06-15_Ut_3042_door_4',\n",
       " 'trajs_2017-06-29_Ut_3166_door_4',\n",
       " 'trajs_2017-08-29_Ut_3016_door_3',\n",
       " 'trajs_2017-08-30_Ut_3122_door_3',\n",
       " 'trajs_2017-08-31_Ut_3130_door_4',\n",
       " 'trajs_2017-09-06_Ut_824_door_3',\n",
       " 'trajs_2017-09-07_Ut_3168_door_3',\n",
       " 'trajs_2017-09-08_Ut_3168_door_3',\n",
       " 'trajs_2017-09-12_Ut_3056_door_3',\n",
       " 'trajs_2017-09-15_Ut_3058_door_3',\n",
       " 'trajs_2017-09-16_Ut_3140_door_4',\n",
       " 'trajs_2017-09-16_Ut_3170_door_4',\n",
       " 'trajs_2017-09-17_Ut_3062_door_4',\n",
       " 'trajs_2018-05-28_Ut_3158_door_4',\n",
       " 'trajs_2018-05-29_Ut_3080_door_3',\n",
       " 'trajs_2018-05-29_Ut_3950_door_3',\n",
       " 'trajs_2018-05-30_Ut_3078_door_4',\n",
       " 'trajs_2018-06-06_Ut_3042_door_4',\n",
       " 'trajs_2018-06-07_Ut_3076_door_3',\n",
       " 'trajs_2018-03-09_Ut_3030_door_4',\n",
       " 'trajs_2018-03-09_Ut_3060_door_3',\n",
       " 'trajs_2018-03-09_Ut_3064_door_3',\n",
       " 'trajs_2018-03-09_Ut_3080_door_3',\n",
       " 'trajs_2018-03-10_Ut_3140_door_4',\n",
       " 'trajs_2018-03-10_Ut_3142_door_4',\n",
       " 'trajs_2018-03-13_Ut_3140_door_4',\n",
       " 'trajs_2018-03-15_Ut_3030_door_3',\n",
       " 'trajs_2018-03-15_Ut_3038_door_4',\n",
       " 'trajs_2018-03-18_Ut_3152_door_4',\n",
       " 'trajs_2018-03-23_Ut_3034_door_3',\n",
       " 'trajs_2018-03-26_Ut_3028_door_4',\n",
       " 'trajs_2018-03-28_Ut_3026_door_4',\n",
       " 'trajs_2018-03-28_Ut_3134_door_4',\n",
       " 'trajs_2018-04-01_Ut_3020_door_3',\n",
       " 'trajs_2018-04-06_Ut_3070_door_4',\n",
       " 'trajs_2018-04-11_Ut_3016_door_3',\n",
       " 'trajs_2018-04-11_Ut_3052_door_3',\n",
       " 'trajs_2018-04-12_Ut_3150_door_3',\n",
       " 'trajs_2017-04-10_Ut_3078_door_4',\n",
       " 'trajs_2017-04-11_Ut_3062_door_3',\n",
       " 'trajs_2017-04-12_Ut_3162_door_4',\n",
       " 'trajs_2017-04-13_Ut_3052_door_3',\n",
       " 'trajs_2017-04-15_Ut_3124_door_4',\n",
       " 'trajs_2017-04-18_Ut_3170_door_3',\n",
       " 'trajs_2017-04-19_Ut_3116_door_4',\n",
       " 'trajs_2017-04-20_Ut_3118_door_3',\n",
       " 'trajs_2017-04-25_Ut_3138_door_3',\n",
       " 'trajs_2017-04-26_Ut_3036_door_4',\n",
       " 'trajs_2017-04-26_Ut_3130_door_4',\n",
       " 'trajs_2017-04-26_Ut_3156_door_3',\n",
       " 'trajs_2017-04-27_Ut_3030_door_4',\n",
       " 'trajs_2018-01-05_Ut_3046_door_3',\n",
       " 'trajs_2018-01-06_Ut_3036_door_3',\n",
       " 'trajs_2018-01-08_Ut_3158_door_4',\n",
       " 'trajs_2018-01-13_Ut_3074_door_3',\n",
       " 'trajs_2018-01-15_Ut_3132_door_4',\n",
       " 'trajs_2018-01-22_Ut_3048_door_4',\n",
       " 'trajs_2018-01-23_Ut_3076_door_4',\n",
       " 'trajs_2018-01-24_Ut_3018_door_3',\n",
       " 'trajs_2018-01-26_Ut_3072_door_4',\n",
       " 'trajs_2018-01-26_Ut_3152_door_3',\n",
       " 'trajs_2018-01-27_Ut_3058_door_4',\n",
       " 'trajs_2018-01-28_Ut_3022_door_3',\n",
       " 'trajs_2018-01-29_Ut_303548_door_4',\n",
       " 'trajs_2018-01-29_Ut_3046_door_4',\n",
       " 'trajs_2018-01-30_Ut_3170_door_4',\n",
       " 'trajs_2018-01-31_Ut_3022_door_4',\n",
       " 'trajs_2018-02-01_Ut_3022_door_3',\n",
       " 'trajs_2018-02-02_Ut_3034_door_4',\n",
       " 'trajs_2017-09-27_Ut_3128_door_4',\n",
       " 'trajs_2017-09-30_Ut_3534_door_3',\n",
       " 'trajs_2017-10-01_Ut_848_door_4',\n",
       " 'trajs_2017-10-03_Ut_3136_door_3',\n",
       " 'trajs_2017-10-05_Ut_3036_door_3',\n",
       " 'trajs_2017-10-06_Ut_3042_door_4',\n",
       " 'trajs_2017-10-06_Ut_3120_door_3',\n",
       " 'trajs_2017-10-11_Ut_3154_door_3',\n",
       " 'trajs_2017-10-16_Ut_3040_door_3',\n",
       " 'trajs_2017-10-18_Ut_3116_door_3',\n",
       " 'trajs_2017-10-19_Ut_3030_door_3',\n",
       " 'trajs_2017-10-19_Ut_3076_door_4',\n",
       " 'trajs_2017-10-20_Ut_3082_door_4',\n",
       " 'trajs_2017-10-20_Ut_3160_door_4',\n",
       " 'trajs_2017-10-25_Ut_3060_door_3',\n",
       " 'trajs_2017-10-25_Ut_3164_door_3',\n",
       " 'trajs_2017-10-26_Ut_3062_door_3',\n",
       " 'trajs_2017-10-30_Ut_3160_door_4',\n",
       " 'trajs_2017-10-31_Ut_3066_door_3',\n",
       " 'trajs_2018-02-04_Ut_3076_door_4',\n",
       " 'trajs_2018-02-10_Ut_3154_door_3',\n",
       " 'trajs_2018-02-11_Ut_3078_door_4',\n",
       " 'trajs_2018-02-14_Ut_3124_door_3',\n",
       " 'trajs_2018-02-14_Ut_3128_door_4',\n",
       " 'trajs_2018-02-15_Ut_3126_door_4',\n",
       " 'trajs_2018-02-22_Ut_3016_door_3',\n",
       " 'trajs_2018-02-22_Ut_3020_door_4',\n",
       " 'trajs_2018-03-03_Ut_3062_door_3',\n",
       " 'trajs_2018-03-03_Ut_3078_door_3',\n",
       " 'trajs_2018-03-03_Ut_3132_door_4',\n",
       " 'trajs_2018-03-04_Ut_3138_door_4',\n",
       " 'trajs_2018-03-06_Ut_3146_door_3',\n",
       " 'trajs_2018-03-07_Ut_3120_door_4',\n",
       " 'trajs_2018-04-16_Ut_3136_door_3',\n",
       " 'trajs_2018-04-19_Ut_3130_door_4',\n",
       " 'trajs_2018-04-21_Ut_3034_door_3',\n",
       " 'trajs_2018-04-21_Ut_3044_door_3',\n",
       " 'trajs_2018-04-22_Ut_3136_door_3',\n",
       " 'trajs_2018-04-28_Ut_3054_door_4',\n",
       " 'trajs_2018-04-28_Ut_3126_door_4',\n",
       " 'trajs_2018-04-29_Ut_3026_door_3',\n",
       " 'trajs_2018-04-29_Ut_3174_door_4',\n",
       " 'trajs_2018-05-04_Ut_3030_door_3',\n",
       " 'trajs_2018-05-04_Ut_3960_door_4',\n",
       " 'trajs_2018-05-05_Ut_3124_door_4',\n",
       " 'trajs_2018-05-06_Ut_3136_door_3',\n",
       " 'trajs_2018-05-07_Ut_3164_door_3',\n",
       " 'trajs_2018-05-08_Ut_3126_door_3',\n",
       " 'trajs_2018-05-10_Ut_3076_door_4',\n",
       " 'trajs_2018-05-12_Ut_3062_door_4',\n",
       " 'trajs_2017-05-03_Ut_3068_door_4',\n",
       " 'trajs_2017-05-04_Ut_3022_door_3',\n",
       " 'trajs_2017-05-04_Ut_3024_door_4',\n",
       " 'trajs_2017-05-09_Ut_3056_door_3',\n",
       " 'trajs_2017-05-09_Ut_3120_door_3',\n",
       " 'trajs_2017-05-10_Ut_3064_door_3',\n",
       " 'trajs_2017-05-13_Ut_3162_door_4',\n",
       " 'trajs_2017-05-15_Ut_3036_door_3',\n",
       " 'trajs_2017-05-15_Ut_3048_door_4',\n",
       " 'trajs_2017-05-17_Ut_3066_door_4',\n",
       " 'trajs_2017-05-22_Ut_3074_door_4',\n",
       " 'trajs_2017-05-26_Ut_3034_door_4',\n",
       " 'trajs_2017-05-26_Ut_3044_door_4',\n",
       " 'trajs_2017-05-31_Ut_3056_door_3',\n",
       " 'trajs_2017-05-31_Ut_3116_door_4']"
      ]
     },
     "execution_count": 10,
     "metadata": {},
     "output_type": "execute_result"
    }
   ],
   "source": [
    "dirlist = [filename for filename in os.listdir(path_data) if os.path.isdir(f'{path_data}/{filename}')]\n",
    "dirlist"
   ]
  },
  {
   "cell_type": "code",
   "execution_count": 15,
   "metadata": {
    "ExecuteTime": {
     "end_time": "2019-01-14T15:01:32.795665Z",
     "start_time": "2019-01-14T15:01:32.792230Z"
    }
   },
   "outputs": [],
   "source": [
    "vids_valid = dirlist[:10]\n",
    "vids_test = dirlist[-10:]"
   ]
  },
  {
   "cell_type": "code",
   "execution_count": 16,
   "metadata": {},
   "outputs": [
    {
     "data": {
      "text/plain": [
       "10"
      ]
     },
     "execution_count": 16,
     "metadata": {},
     "output_type": "execute_result"
    }
   ],
   "source": [
    "len(vids_test)"
   ]
  },
  {
   "cell_type": "code",
   "execution_count": 17,
   "metadata": {},
   "outputs": [
    {
     "data": {
      "text/plain": [
       "['trajs_2017-05-10_Ut_3064_door_3',\n",
       " 'trajs_2017-05-13_Ut_3162_door_4',\n",
       " 'trajs_2017-05-15_Ut_3036_door_3',\n",
       " 'trajs_2017-05-15_Ut_3048_door_4',\n",
       " 'trajs_2017-05-17_Ut_3066_door_4',\n",
       " 'trajs_2017-05-22_Ut_3074_door_4',\n",
       " 'trajs_2017-05-26_Ut_3034_door_4',\n",
       " 'trajs_2017-05-26_Ut_3044_door_4',\n",
       " 'trajs_2017-05-31_Ut_3056_door_3',\n",
       " 'trajs_2017-05-31_Ut_3116_door_4']"
      ]
     },
     "execution_count": 17,
     "metadata": {},
     "output_type": "execute_result"
    }
   ],
   "source": [
    "vids_test"
   ]
  },
  {
   "cell_type": "code",
   "execution_count": 20,
   "metadata": {
    "ExecuteTime": {
     "end_time": "2019-01-14T15:01:34.975711Z",
     "start_time": "2019-01-14T15:01:34.552245Z"
    }
   },
   "outputs": [
    {
     "name": "stdout",
     "output_type": "stream",
     "text": [
      "Done saving new labels file with splits to /media/tiesbarendse/DATA/be_ts//labels.csv\n"
     ]
    }
   ],
   "source": [
    "add_splits_to_labels_file(vids_valid, vids_test)"
   ]
  }
 ],
 "metadata": {
  "kernelspec": {
   "display_name": "tf_env",
   "language": "python",
   "name": "python3"
  },
  "language_info": {
   "codemirror_mode": {
    "name": "ipython",
    "version": 3
   },
   "file_extension": ".py",
   "mimetype": "text/x-python",
   "name": "python",
   "nbconvert_exporter": "python",
   "pygments_lexer": "ipython3",
   "version": "3.10.9"
  },
  "vscode": {
   "interpreter": {
    "hash": "8f9fd7e5cd0ee174f389b9d7efcf5e4e8d178ce255061fb4046125c712618101"
   }
  }
 },
 "nbformat": 4,
 "nbformat_minor": 2
}
