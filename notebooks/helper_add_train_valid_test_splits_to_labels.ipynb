{
 "cells": [
  {
   "cell_type": "markdown",
   "metadata": {},
   "source": [
    "# Instructions"
   ]
  },
  {
   "cell_type": "markdown",
   "metadata": {},
   "source": [
    "Your `data/labels.csv` file needs to be in the format `video_name, video_frame_filename_with_timestamp, label, split` to use this package to train models. \n",
    "\n",
    "It is likely that your labels start in one of the following 2 formats:\n",
    "1. `video_name, video_frame_filename_with_timestamp, label` format\n",
    "2. `video_name, timestamp_start, timestamp_end, label`\n",
    "\n",
    "If your data is in format 2, then run the helper notebook in `notebooks/helper_convert_timestamps_file_to_labels.ipynb` to convert it to format 1.\n",
    "\n",
    "Once your labels file is in format 1, use this notebook to add the `split` column that allocates videos to train/test/validation splits by specifying a list of video names for each split. \n",
    "\n",
    "Note, this package assumes train/valid/test videos are split at the video level. If you have one very long video, you could cut it up into several smaller videos first..."
   ]
  },
  {
   "cell_type": "markdown",
   "metadata": {},
   "source": [
    "# Setup"
   ]
  },
  {
   "cell_type": "code",
   "execution_count": 1,
   "metadata": {
    "ExecuteTime": {
     "end_time": "2019-01-14T14:59:28.890117Z",
     "start_time": "2019-01-14T14:59:28.587543Z"
    }
   },
   "outputs": [],
   "source": [
    "import os\n",
    "import pandas as pd\n",
    "import numpy as np\n",
    "import json\n",
    "\n",
    "import cv2\n",
    "from time import time as timer\n",
    "import sys\n",
    "sys.path.append('..')"
   ]
  },
  {
   "cell_type": "code",
   "execution_count": 2,
   "metadata": {
    "ExecuteTime": {
     "end_time": "2019-01-14T14:59:28.895886Z",
     "start_time": "2019-01-14T14:59:28.892724Z"
    }
   },
   "outputs": [],
   "source": [
    "# setup paths\n",
    "pwd = os.getcwd().replace(\"notebooks\",\"\")\n",
    "path_cache = pwd + 'cache/'\n",
    "path_data = pwd + 'data_cnn_ts_3d/'"
   ]
  },
  {
   "cell_type": "code",
   "execution_count": 3,
   "metadata": {
    "ExecuteTime": {
     "end_time": "2019-01-14T14:59:28.992093Z",
     "start_time": "2019-01-14T14:59:28.986269Z"
    }
   },
   "outputs": [],
   "source": [
    "# read vid paths\n",
    "path_videos = []\n",
    "for filename in os.listdir(path_data):\n",
    "    if os.path.isdir(os.path.join(path_data, filename)):\n",
    "        path_videos.append(filename)\n",
    "\n",
    "path_videos = [path_data + v + '/' for v in path_videos if v != '.DS_Store']"
   ]
  },
  {
   "cell_type": "code",
   "execution_count": 23,
   "metadata": {
    "ExecuteTime": {
     "end_time": "2019-01-14T14:59:29.516003Z",
     "start_time": "2019-01-14T14:59:29.510506Z"
    }
   },
   "outputs": [],
   "source": [
    "def add_splits_to_labels_file(vids_valid, vids_test):\n",
    "    \"\"\"\n",
    "    Helper function to add splits to your labels file \n",
    "\n",
    "    If your labels file has the columns \"video\",\"filename\",\"label\", \n",
    "    you can use this function to add train/valid/test splits by specifying\n",
    "    as lists of video names which videos should be valid and which should be test\n",
    "\n",
    "    Will overwrite labels file on disk\n",
    "\n",
    "    Sample usage\n",
    "    \"\"\"\n",
    "    # e.g. \n",
    "    # * vids_valid = ['vid_a', 'vid_b', 'vid_c']\n",
    "    # * vids_test = ['vid_y', 'vid_z']\n",
    "    # all the rest will be train\n",
    "\n",
    "    labels = pd.read_csv(path_data + 'labels.csv', usecols=['video','frame','label'])\n",
    "\n",
    "    def allocate_set(vid):\n",
    "        if vid in vids_valid:\n",
    "            return \"valid\"\n",
    "        elif vid in vids_test:\n",
    "            return \"test\"\n",
    "        else: \n",
    "            return \"train\"\n",
    "\n",
    "    # apply split\n",
    "    labels['split'] = labels['video'].apply(lambda x: allocate_set(x))\n",
    "\n",
    "    # sort \n",
    "    labels.sort_values([\"video\",\"frame\"], inplace=True)\n",
    "\n",
    "    # output as csv\n",
    "    labels.to_csv(path_data + 'labels.csv', index=False)\n",
    "    \n",
    "    print(f\"Done saving new labels file with splits to {path_data}/labels.csv\")"
   ]
  },
  {
   "cell_type": "markdown",
   "metadata": {},
   "source": [
    "# Use function to add splits to labels file"
   ]
  },
  {
   "cell_type": "markdown",
   "metadata": {},
   "source": [
    "> Define the video names for validation and test set"
   ]
  },
  {
   "cell_type": "code",
   "execution_count": 9,
   "metadata": {},
   "outputs": [
    {
     "data": {
      "text/plain": [
       "False"
      ]
     },
     "execution_count": 9,
     "metadata": {},
     "output_type": "execute_result"
    }
   ],
   "source": [
    "os.path.isdir(f'{path_data}/labels.csv')"
   ]
  },
  {
   "cell_type": "code",
   "execution_count": 10,
   "metadata": {},
   "outputs": [
    {
     "data": {
      "text/plain": [
       "['trajs_2017-06-03_Ut_3030_door_4',\n",
       " 'trajs_2018-05-08_Ut_3038_door_4',\n",
       " 'trajs_2018-02-06_Ut_3048_door_4',\n",
       " 'trajs_2018-02-09_Ut_830_door_3',\n",
       " 'trajs_2018-05-16_Ut_3040_door_3',\n",
       " 'trajs_2017-12-16_Ut_700852_door_3',\n",
       " 'trajs_2017-03-08_Ut_3064_door_3',\n",
       " 'trajs_2017-06-14_Ut_3066_door_3',\n",
       " 'trajs_2018-05-21_Ut_3072_door_4',\n",
       " 'trajs_2017-09-28_Ut_3126_door_3']"
      ]
     },
     "execution_count": 10,
     "metadata": {},
     "output_type": "execute_result"
    }
   ],
   "source": [
    "dirlist = [filename for filename in os.listdir(path_data) if os.path.isdir(f'{path_data}/{filename}')]\n",
    "dirlist"
   ]
  },
  {
   "cell_type": "code",
   "execution_count": 19,
   "metadata": {
    "ExecuteTime": {
     "end_time": "2019-01-14T15:01:32.795665Z",
     "start_time": "2019-01-14T15:01:32.792230Z"
    }
   },
   "outputs": [],
   "source": [
    "vids_valid = dirlist[:2]\n",
    "vids_test = dirlist[9:]"
   ]
  },
  {
   "cell_type": "code",
   "execution_count": 20,
   "metadata": {},
   "outputs": [
    {
     "data": {
      "text/plain": [
       "['trajs_2017-06-03_Ut_3030_door_4', 'trajs_2018-05-08_Ut_3038_door_4']"
      ]
     },
     "execution_count": 20,
     "metadata": {},
     "output_type": "execute_result"
    }
   ],
   "source": [
    "vids_valid"
   ]
  },
  {
   "cell_type": "code",
   "execution_count": 21,
   "metadata": {},
   "outputs": [
    {
     "data": {
      "text/plain": [
       "['trajs_2017-09-28_Ut_3126_door_3']"
      ]
     },
     "execution_count": 21,
     "metadata": {},
     "output_type": "execute_result"
    }
   ],
   "source": [
    "vids_test"
   ]
  },
  {
   "cell_type": "code",
   "execution_count": 22,
   "metadata": {
    "ExecuteTime": {
     "end_time": "2019-01-14T15:01:34.975711Z",
     "start_time": "2019-01-14T15:01:34.552245Z"
    }
   },
   "outputs": [
    {
     "name": "stdout",
     "output_type": "stream",
     "text": [
      "Done saving new labels file with splits to /data/labels.csv\n"
     ]
    }
   ],
   "source": [
    "add_splits_to_labels_file(vids_valid, vids_test)"
   ]
  }
 ],
 "metadata": {
  "kernelspec": {
   "display_name": "tf_env",
   "language": "python",
   "name": "python3"
  },
  "language_info": {
   "codemirror_mode": {
    "name": "ipython",
    "version": 3
   },
   "file_extension": ".py",
   "mimetype": "text/x-python",
   "name": "python",
   "nbconvert_exporter": "python",
   "pygments_lexer": "ipython3",
   "version": "3.10.9"
  },
  "vscode": {
   "interpreter": {
    "hash": "8f9fd7e5cd0ee174f389b9d7efcf5e4e8d178ce255061fb4046125c712618101"
   }
  }
 },
 "nbformat": 4,
 "nbformat_minor": 2
}
